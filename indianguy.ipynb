{
 "cells": [
  {
   "cell_type": "code",
   "execution_count": 3,
   "metadata": {},
   "outputs": [],
   "source": [
    "import matplotlib.pyplot as plt\n",
    "import tensorflow as tf\n",
    "import numpy as np\n",
    "import PIL.Image\n"
   ]
  },
  {
   "cell_type": "code",
   "execution_count": 6,
   "metadata": {},
   "outputs": [
    {
     "name": "stdout",
     "output_type": "stream",
     "text": [
      "<module 'keras.api._v2.keras.applications.vgg16' from 'C:\\\\Users\\\\shawn\\\\AppData\\\\Local\\\\Programs\\\\Python\\\\Python310\\\\lib\\\\site-packages\\\\keras\\\\api\\\\_v2\\\\keras\\\\applications\\\\vgg16\\\\__init__.py'>\n"
     ]
    }
   ],
   "source": [
    "print( tf.keras.applications.vgg16)"
   ]
  },
  {
   "cell_type": "code",
   "execution_count": 7,
   "metadata": {},
   "outputs": [],
   "source": [
    "def load_image(filename, max_size=None):\n",
    "    image = PIL.Image.open(filename)\n",
    "    \n",
    "    if max_size is not None:\n",
    "        factor = max_size / np.max(image.size)\n",
    "        size = np.array(image.size)*factor\n",
    "        size = size.astype(int)\n",
    "        image = image.resize(size, PIL.Image.LANCZOS)\n",
    "    return np.float32(image)"
   ]
  },
  {
   "cell_type": "code",
   "execution_count": 16,
   "metadata": {},
   "outputs": [],
   "source": [
    "def save_image(image, filename):\n",
    "    image = np.clip(image, 0.0, 255.0)\n",
    "    image = image.astype(np.uint8)\n",
    "    with open(filename, 'wb') as file:\n",
    "        PIL.Image.fromarray(image).save(file, 'jpeg')\n",
    "        "
   ]
  },
  {
   "cell_type": "code",
   "execution_count": 17,
   "metadata": {},
   "outputs": [],
   "source": [
    "def plot_image_big(image):\n",
    "    image = np.clip(image, 0.0, 255.0)\n",
    "    image = image.astype(np.uint8)\n",
    "    # image.show()\n",
    "    plt.imshow(np.squeeze(image))  \n",
    "    plt.show()\n",
    "    "
   ]
  },
  {
   "cell_type": "code",
   "execution_count": 14,
   "metadata": {},
   "outputs": [],
   "source": [
    "def plot_images(content_image, style_image, mixed_image):\n",
    "    fig, axes = plt.subplots(1,3, figsize=(10,10))"
   ]
  },
  {
   "cell_type": "code",
   "execution_count": 18,
   "metadata": {},
   "outputs": [
    {
     "ename": "TypeError",
     "evalue": "'>=' not supported between instances of 'NoneType' and 'float'",
     "output_type": "error",
     "traceback": [
      "\u001b[1;31m---------------------------------------------------------------------------\u001b[0m",
      "\u001b[1;31mTypeError\u001b[0m                                 Traceback (most recent call last)",
      "\u001b[1;32mc:\\coding_projects\\Tensorflow-practice\\indianguy.ipynb Cell 7'\u001b[0m in \u001b[0;36m<cell line: 2>\u001b[1;34m()\u001b[0m\n\u001b[0;32m      <a href='vscode-notebook-cell:/c%3A/coding_projects/Tensorflow-practice/indianguy.ipynb#ch0000007?line=0'>1</a>\u001b[0m random_image \u001b[39m=\u001b[39m load_image(\u001b[39m\"\u001b[39m\u001b[39mimages/Elevator.jpg\u001b[39m\u001b[39m\"\u001b[39m)\n\u001b[1;32m----> <a href='vscode-notebook-cell:/c%3A/coding_projects/Tensorflow-practice/indianguy.ipynb#ch0000007?line=1'>2</a>\u001b[0m plot_image_big(random_image)\n",
      "\u001b[1;32mc:\\coding_projects\\Tensorflow-practice\\indianguy.ipynb Cell 5'\u001b[0m in \u001b[0;36mplot_image_big\u001b[1;34m(image)\u001b[0m\n\u001b[0;32m      <a href='vscode-notebook-cell:/c%3A/coding_projects/Tensorflow-practice/indianguy.ipynb#ch0000004?line=0'>1</a>\u001b[0m \u001b[39mdef\u001b[39;00m \u001b[39mplot_image_big\u001b[39m(image):\n\u001b[1;32m----> <a href='vscode-notebook-cell:/c%3A/coding_projects/Tensorflow-practice/indianguy.ipynb#ch0000004?line=1'>2</a>\u001b[0m     image \u001b[39m=\u001b[39m np\u001b[39m.\u001b[39;49mclip(image, \u001b[39m0.0\u001b[39;49m, \u001b[39m255.0\u001b[39;49m)\n\u001b[0;32m      <a href='vscode-notebook-cell:/c%3A/coding_projects/Tensorflow-practice/indianguy.ipynb#ch0000004?line=2'>3</a>\u001b[0m     image \u001b[39m=\u001b[39m image\u001b[39m.\u001b[39mastype(np\u001b[39m.\u001b[39muint8)\n\u001b[0;32m      <a href='vscode-notebook-cell:/c%3A/coding_projects/Tensorflow-practice/indianguy.ipynb#ch0000004?line=3'>4</a>\u001b[0m     \u001b[39m# image.show()\u001b[39;00m\n",
      "File \u001b[1;32m<__array_function__ internals>:180\u001b[0m, in \u001b[0;36mclip\u001b[1;34m(*args, **kwargs)\u001b[0m\n",
      "File \u001b[1;32m~\\AppData\\Local\\Programs\\Python\\Python310\\lib\\site-packages\\numpy\\core\\fromnumeric.py:2152\u001b[0m, in \u001b[0;36mclip\u001b[1;34m(a, a_min, a_max, out, **kwargs)\u001b[0m\n\u001b[0;32m   <a href='file:///c%3A/Users/shawn/AppData/Local/Programs/Python/Python310/lib/site-packages/numpy/core/fromnumeric.py?line=2082'>2083</a>\u001b[0m \u001b[39m@array_function_dispatch\u001b[39m(_clip_dispatcher)\n\u001b[0;32m   <a href='file:///c%3A/Users/shawn/AppData/Local/Programs/Python/Python310/lib/site-packages/numpy/core/fromnumeric.py?line=2083'>2084</a>\u001b[0m \u001b[39mdef\u001b[39;00m \u001b[39mclip\u001b[39m(a, a_min, a_max, out\u001b[39m=\u001b[39m\u001b[39mNone\u001b[39;00m, \u001b[39m*\u001b[39m\u001b[39m*\u001b[39mkwargs):\n\u001b[0;32m   <a href='file:///c%3A/Users/shawn/AppData/Local/Programs/Python/Python310/lib/site-packages/numpy/core/fromnumeric.py?line=2084'>2085</a>\u001b[0m     \u001b[39m\"\"\"\u001b[39;00m\n\u001b[0;32m   <a href='file:///c%3A/Users/shawn/AppData/Local/Programs/Python/Python310/lib/site-packages/numpy/core/fromnumeric.py?line=2085'>2086</a>\u001b[0m \u001b[39m    Clip (limit) the values in an array.\u001b[39;00m\n\u001b[0;32m   <a href='file:///c%3A/Users/shawn/AppData/Local/Programs/Python/Python310/lib/site-packages/numpy/core/fromnumeric.py?line=2086'>2087</a>\u001b[0m \n\u001b[1;32m   (...)\u001b[0m\n\u001b[0;32m   <a href='file:///c%3A/Users/shawn/AppData/Local/Programs/Python/Python310/lib/site-packages/numpy/core/fromnumeric.py?line=2149'>2150</a>\u001b[0m \n\u001b[0;32m   <a href='file:///c%3A/Users/shawn/AppData/Local/Programs/Python/Python310/lib/site-packages/numpy/core/fromnumeric.py?line=2150'>2151</a>\u001b[0m \u001b[39m    \"\"\"\u001b[39;00m\n\u001b[1;32m-> <a href='file:///c%3A/Users/shawn/AppData/Local/Programs/Python/Python310/lib/site-packages/numpy/core/fromnumeric.py?line=2151'>2152</a>\u001b[0m     \u001b[39mreturn\u001b[39;00m _wrapfunc(a, \u001b[39m'\u001b[39m\u001b[39mclip\u001b[39m\u001b[39m'\u001b[39m, a_min, a_max, out\u001b[39m=\u001b[39mout, \u001b[39m*\u001b[39m\u001b[39m*\u001b[39mkwargs)\n",
      "File \u001b[1;32m~\\AppData\\Local\\Programs\\Python\\Python310\\lib\\site-packages\\numpy\\core\\fromnumeric.py:54\u001b[0m, in \u001b[0;36m_wrapfunc\u001b[1;34m(obj, method, *args, **kwds)\u001b[0m\n\u001b[0;32m     <a href='file:///c%3A/Users/shawn/AppData/Local/Programs/Python/Python310/lib/site-packages/numpy/core/fromnumeric.py?line=51'>52</a>\u001b[0m bound \u001b[39m=\u001b[39m \u001b[39mgetattr\u001b[39m(obj, method, \u001b[39mNone\u001b[39;00m)\n\u001b[0;32m     <a href='file:///c%3A/Users/shawn/AppData/Local/Programs/Python/Python310/lib/site-packages/numpy/core/fromnumeric.py?line=52'>53</a>\u001b[0m \u001b[39mif\u001b[39;00m bound \u001b[39mis\u001b[39;00m \u001b[39mNone\u001b[39;00m:\n\u001b[1;32m---> <a href='file:///c%3A/Users/shawn/AppData/Local/Programs/Python/Python310/lib/site-packages/numpy/core/fromnumeric.py?line=53'>54</a>\u001b[0m     \u001b[39mreturn\u001b[39;00m _wrapit(obj, method, \u001b[39m*\u001b[39margs, \u001b[39m*\u001b[39m\u001b[39m*\u001b[39mkwds)\n\u001b[0;32m     <a href='file:///c%3A/Users/shawn/AppData/Local/Programs/Python/Python310/lib/site-packages/numpy/core/fromnumeric.py?line=55'>56</a>\u001b[0m \u001b[39mtry\u001b[39;00m:\n\u001b[0;32m     <a href='file:///c%3A/Users/shawn/AppData/Local/Programs/Python/Python310/lib/site-packages/numpy/core/fromnumeric.py?line=56'>57</a>\u001b[0m     \u001b[39mreturn\u001b[39;00m bound(\u001b[39m*\u001b[39margs, \u001b[39m*\u001b[39m\u001b[39m*\u001b[39mkwds)\n",
      "File \u001b[1;32m~\\AppData\\Local\\Programs\\Python\\Python310\\lib\\site-packages\\numpy\\core\\fromnumeric.py:43\u001b[0m, in \u001b[0;36m_wrapit\u001b[1;34m(obj, method, *args, **kwds)\u001b[0m\n\u001b[0;32m     <a href='file:///c%3A/Users/shawn/AppData/Local/Programs/Python/Python310/lib/site-packages/numpy/core/fromnumeric.py?line=40'>41</a>\u001b[0m \u001b[39mexcept\u001b[39;00m \u001b[39mAttributeError\u001b[39;00m:\n\u001b[0;32m     <a href='file:///c%3A/Users/shawn/AppData/Local/Programs/Python/Python310/lib/site-packages/numpy/core/fromnumeric.py?line=41'>42</a>\u001b[0m     wrap \u001b[39m=\u001b[39m \u001b[39mNone\u001b[39;00m\n\u001b[1;32m---> <a href='file:///c%3A/Users/shawn/AppData/Local/Programs/Python/Python310/lib/site-packages/numpy/core/fromnumeric.py?line=42'>43</a>\u001b[0m result \u001b[39m=\u001b[39m \u001b[39mgetattr\u001b[39m(asarray(obj), method)(\u001b[39m*\u001b[39margs, \u001b[39m*\u001b[39m\u001b[39m*\u001b[39mkwds)\n\u001b[0;32m     <a href='file:///c%3A/Users/shawn/AppData/Local/Programs/Python/Python310/lib/site-packages/numpy/core/fromnumeric.py?line=43'>44</a>\u001b[0m \u001b[39mif\u001b[39;00m wrap:\n\u001b[0;32m     <a href='file:///c%3A/Users/shawn/AppData/Local/Programs/Python/Python310/lib/site-packages/numpy/core/fromnumeric.py?line=44'>45</a>\u001b[0m     \u001b[39mif\u001b[39;00m \u001b[39mnot\u001b[39;00m \u001b[39misinstance\u001b[39m(result, mu\u001b[39m.\u001b[39mndarray):\n",
      "File \u001b[1;32m~\\AppData\\Local\\Programs\\Python\\Python310\\lib\\site-packages\\numpy\\core\\_methods.py:159\u001b[0m, in \u001b[0;36m_clip\u001b[1;34m(a, min, max, out, casting, **kwargs)\u001b[0m\n\u001b[0;32m    <a href='file:///c%3A/Users/shawn/AppData/Local/Programs/Python/Python310/lib/site-packages/numpy/core/_methods.py?line=155'>156</a>\u001b[0m     \u001b[39mreturn\u001b[39;00m _clip_dep_invoke_with_casting(\n\u001b[0;32m    <a href='file:///c%3A/Users/shawn/AppData/Local/Programs/Python/Python310/lib/site-packages/numpy/core/_methods.py?line=156'>157</a>\u001b[0m         um\u001b[39m.\u001b[39mmaximum, a, \u001b[39mmin\u001b[39m, out\u001b[39m=\u001b[39mout, casting\u001b[39m=\u001b[39mcasting, \u001b[39m*\u001b[39m\u001b[39m*\u001b[39mkwargs)\n\u001b[0;32m    <a href='file:///c%3A/Users/shawn/AppData/Local/Programs/Python/Python310/lib/site-packages/numpy/core/_methods.py?line=157'>158</a>\u001b[0m \u001b[39melse\u001b[39;00m:\n\u001b[1;32m--> <a href='file:///c%3A/Users/shawn/AppData/Local/Programs/Python/Python310/lib/site-packages/numpy/core/_methods.py?line=158'>159</a>\u001b[0m     \u001b[39mreturn\u001b[39;00m _clip_dep_invoke_with_casting(\n\u001b[0;32m    <a href='file:///c%3A/Users/shawn/AppData/Local/Programs/Python/Python310/lib/site-packages/numpy/core/_methods.py?line=159'>160</a>\u001b[0m         um\u001b[39m.\u001b[39mclip, a, \u001b[39mmin\u001b[39m, \u001b[39mmax\u001b[39m, out\u001b[39m=\u001b[39mout, casting\u001b[39m=\u001b[39mcasting, \u001b[39m*\u001b[39m\u001b[39m*\u001b[39mkwargs)\n",
      "File \u001b[1;32m~\\AppData\\Local\\Programs\\Python\\Python310\\lib\\site-packages\\numpy\\core\\_methods.py:113\u001b[0m, in \u001b[0;36m_clip_dep_invoke_with_casting\u001b[1;34m(ufunc, out, casting, *args, **kwargs)\u001b[0m\n\u001b[0;32m    <a href='file:///c%3A/Users/shawn/AppData/Local/Programs/Python/Python310/lib/site-packages/numpy/core/_methods.py?line=110'>111</a>\u001b[0m \u001b[39m# try to deal with broken casting rules\u001b[39;00m\n\u001b[0;32m    <a href='file:///c%3A/Users/shawn/AppData/Local/Programs/Python/Python310/lib/site-packages/numpy/core/_methods.py?line=111'>112</a>\u001b[0m \u001b[39mtry\u001b[39;00m:\n\u001b[1;32m--> <a href='file:///c%3A/Users/shawn/AppData/Local/Programs/Python/Python310/lib/site-packages/numpy/core/_methods.py?line=112'>113</a>\u001b[0m     \u001b[39mreturn\u001b[39;00m ufunc(\u001b[39m*\u001b[39margs, out\u001b[39m=\u001b[39mout, \u001b[39m*\u001b[39m\u001b[39m*\u001b[39mkwargs)\n\u001b[0;32m    <a href='file:///c%3A/Users/shawn/AppData/Local/Programs/Python/Python310/lib/site-packages/numpy/core/_methods.py?line=113'>114</a>\u001b[0m \u001b[39mexcept\u001b[39;00m _exceptions\u001b[39m.\u001b[39m_UFuncOutputCastingError \u001b[39mas\u001b[39;00m e:\n\u001b[0;32m    <a href='file:///c%3A/Users/shawn/AppData/Local/Programs/Python/Python310/lib/site-packages/numpy/core/_methods.py?line=114'>115</a>\u001b[0m     \u001b[39m# Numpy 1.17.0, 2019-02-24\u001b[39;00m\n\u001b[0;32m    <a href='file:///c%3A/Users/shawn/AppData/Local/Programs/Python/Python310/lib/site-packages/numpy/core/_methods.py?line=115'>116</a>\u001b[0m     warnings\u001b[39m.\u001b[39mwarn(\n\u001b[0;32m    <a href='file:///c%3A/Users/shawn/AppData/Local/Programs/Python/Python310/lib/site-packages/numpy/core/_methods.py?line=116'>117</a>\u001b[0m         \u001b[39m\"\u001b[39m\u001b[39mConverting the output of clip from \u001b[39m\u001b[39m{!r}\u001b[39;00m\u001b[39m to \u001b[39m\u001b[39m{!r}\u001b[39;00m\u001b[39m is deprecated. \u001b[39m\u001b[39m\"\u001b[39m\n\u001b[0;32m    <a href='file:///c%3A/Users/shawn/AppData/Local/Programs/Python/Python310/lib/site-packages/numpy/core/_methods.py?line=117'>118</a>\u001b[0m         \u001b[39m\"\u001b[39m\u001b[39mPass `casting=\u001b[39m\u001b[39m\\\"\u001b[39;00m\u001b[39munsafe\u001b[39m\u001b[39m\\\"\u001b[39;00m\u001b[39m` explicitly to silence this warning, or \u001b[39m\u001b[39m\"\u001b[39m\n\u001b[1;32m   (...)\u001b[0m\n\u001b[0;32m    <a href='file:///c%3A/Users/shawn/AppData/Local/Programs/Python/Python310/lib/site-packages/numpy/core/_methods.py?line=120'>121</a>\u001b[0m         stacklevel\u001b[39m=\u001b[39m\u001b[39m2\u001b[39m\n\u001b[0;32m    <a href='file:///c%3A/Users/shawn/AppData/Local/Programs/Python/Python310/lib/site-packages/numpy/core/_methods.py?line=121'>122</a>\u001b[0m     )\n",
      "\u001b[1;31mTypeError\u001b[0m: '>=' not supported between instances of 'NoneType' and 'float'"
     ]
    }
   ],
   "source": [
    "random_image = load_image(\"images/Elevator.jpg\")\n",
    "plot_image_big(random_image)"
   ]
  }
 ],
 "metadata": {
  "interpreter": {
   "hash": "59d7a22fab1528b766003728ccf4f3d8c44f16bfe878712e4eaa93ffb4a0d3cf"
  },
  "kernelspec": {
   "display_name": "Python 3.10.3 64-bit",
   "language": "python",
   "name": "python3"
  },
  "language_info": {
   "codemirror_mode": {
    "name": "ipython",
    "version": 3
   },
   "file_extension": ".py",
   "mimetype": "text/x-python",
   "name": "python",
   "nbconvert_exporter": "python",
   "pygments_lexer": "ipython3",
   "version": "3.10.3"
  },
  "orig_nbformat": 4
 },
 "nbformat": 4,
 "nbformat_minor": 2
}
