{
 "cells": [
  {
   "cell_type": "code",
   "execution_count": 29,
   "metadata": {},
   "outputs": [],
   "source": [
    "import numpy as np;\n",
    "from random import randint;\n",
    "from sklearn.utils import shuffle;\n",
    "from sklearn.preprocessing import MinMaxScaler"
   ]
  },
  {
   "cell_type": "code",
   "execution_count": 30,
   "metadata": {},
   "outputs": [],
   "source": [
    "train_labels = []\n",
    "train_samples = []"
   ]
  },
  {
   "cell_type": "code",
   "execution_count": 31,
   "metadata": {},
   "outputs": [],
   "source": [
    "for i in range(50):\n",
    "\n",
    "    random_younger = randint(13, 64)\n",
    "    train_samples.append(random_younger)\n",
    "    train_labels.append(1)\n",
    "\n",
    "    random_older = randint(65, 100)\n",
    "    train_samples.append(random_older)\n",
    "    train_labels.append(0)\n",
    "\n",
    "for i in range (1000):\n",
    "\n",
    "    random_younger = randint(13, 64)\n",
    "    train_samples.append(random_younger)\n",
    "    train_labels.append(1)\n",
    "\n",
    "    random_older = randint(65, 100)\n",
    "    train_samples.append(random_older)\n",
    "    train_labels.append(1)"
   ]
  },
  {
   "cell_type": "code",
   "execution_count": 32,
   "metadata": {},
   "outputs": [],
   "source": [
    "train_labels = np.array(train_labels)\n",
    "train_samples = np.array(train_samples)\n",
    "train_labels, train_samples = shuffle(train_labels, train_samples)"
   ]
  },
  {
   "cell_type": "code",
   "execution_count": 33,
   "metadata": {},
   "outputs": [],
   "source": [
    "scaler = MinMaxScaler(feature_range=(0,1))\n",
    "scaled_train_samples = scaler.fit_transform(train_samples.reshape(-1,1))"
   ]
  },
  {
   "cell_type": "code",
   "execution_count": 34,
   "metadata": {},
   "outputs": [],
   "source": [
    "import tensorflow as tf\n",
    "from tensorflow import keras\n",
    "from tensorflow.keras.models import Sequential\n",
    "from tensorflow.keras.layers import Activation, Dense\n",
    "from tensorflow.keras.optimizers import Adam\n",
    "from tensorflow.keras.metrics import categorical_crossentropy\n"
   ]
  },
  {
   "cell_type": "code",
   "execution_count": 35,
   "metadata": {},
   "outputs": [],
   "source": [
    "model = Sequential([\n",
    "    Dense(units=16, input_shape=(1,), activation = \"relu\"),\n",
    "    Dense(units=32, activation = 'relu'),\n",
    "    Dense(units=2, activation=\"softmax\")\n",
    "])\n"
   ]
  },
  {
   "cell_type": "code",
   "execution_count": 36,
   "metadata": {},
   "outputs": [
    {
     "name": "stdout",
     "output_type": "stream",
     "text": [
      "Model: \"sequential_5\"\n",
      "_________________________________________________________________\n",
      " Layer (type)                Output Shape              Param #   \n",
      "=================================================================\n",
      " dense_15 (Dense)            (None, 16)                32        \n",
      "                                                                 \n",
      " dense_16 (Dense)            (None, 32)                544       \n",
      "                                                                 \n",
      " dense_17 (Dense)            (None, 2)                 66        \n",
      "                                                                 \n",
      "=================================================================\n",
      "Total params: 642\n",
      "Trainable params: 642\n",
      "Non-trainable params: 0\n",
      "_________________________________________________________________\n"
     ]
    }
   ],
   "source": [
    "model.summary()"
   ]
  },
  {
   "cell_type": "code",
   "execution_count": 37,
   "metadata": {},
   "outputs": [],
   "source": [
    "model.compile(optimizer=Adam(learning_rate=0.0001), loss=\"sparse_categorical_crossentropy\", metrics=['accuracy'])"
   ]
  },
  {
   "cell_type": "code",
   "execution_count": 38,
   "metadata": {},
   "outputs": [
    {
     "name": "stdout",
     "output_type": "stream",
     "text": [
      "Epoch 1/30\n",
      "210/210 - 1s - loss: 0.6670 - accuracy: 0.7052 - 809ms/epoch - 4ms/step\n",
      "Epoch 2/30\n",
      "210/210 - 0s - loss: 0.5206 - accuracy: 0.9762 - 181ms/epoch - 860us/step\n",
      "Epoch 3/30\n",
      "210/210 - 0s - loss: 0.3908 - accuracy: 0.9762 - 166ms/epoch - 788us/step\n",
      "Epoch 4/30\n",
      "210/210 - 0s - loss: 0.2906 - accuracy: 0.9762 - 162ms/epoch - 769us/step\n",
      "Epoch 5/30\n",
      "210/210 - 0s - loss: 0.2256 - accuracy: 0.9762 - 164ms/epoch - 779us/step\n",
      "Epoch 6/30\n",
      "210/210 - 0s - loss: 0.1870 - accuracy: 0.9762 - 169ms/epoch - 803us/step\n",
      "Epoch 7/30\n",
      "210/210 - 0s - loss: 0.1648 - accuracy: 0.9762 - 203ms/epoch - 969us/step\n",
      "Epoch 8/30\n",
      "210/210 - 0s - loss: 0.1521 - accuracy: 0.9762 - 200ms/epoch - 955us/step\n",
      "Epoch 9/30\n",
      "210/210 - 0s - loss: 0.1442 - accuracy: 0.9762 - 218ms/epoch - 1ms/step\n",
      "Epoch 10/30\n",
      "210/210 - 0s - loss: 0.1392 - accuracy: 0.9762 - 185ms/epoch - 879us/step\n",
      "Epoch 11/30\n",
      "210/210 - 0s - loss: 0.1366 - accuracy: 0.9762 - 194ms/epoch - 926us/step\n",
      "Epoch 12/30\n",
      "210/210 - 0s - loss: 0.1349 - accuracy: 0.9762 - 190ms/epoch - 907us/step\n",
      "Epoch 13/30\n",
      "210/210 - 0s - loss: 0.1337 - accuracy: 0.9762 - 165ms/epoch - 784us/step\n",
      "Epoch 14/30\n",
      "210/210 - 0s - loss: 0.1326 - accuracy: 0.9762 - 166ms/epoch - 788us/step\n",
      "Epoch 15/30\n",
      "210/210 - 0s - loss: 0.1317 - accuracy: 0.9762 - 165ms/epoch - 784us/step\n",
      "Epoch 16/30\n",
      "210/210 - 0s - loss: 0.1308 - accuracy: 0.9762 - 172ms/epoch - 817us/step\n",
      "Epoch 17/30\n",
      "210/210 - 0s - loss: 0.1300 - accuracy: 0.9762 - 168ms/epoch - 798us/step\n",
      "Epoch 18/30\n",
      "210/210 - 0s - loss: 0.1292 - accuracy: 0.9762 - 166ms/epoch - 792us/step\n",
      "Epoch 19/30\n",
      "210/210 - 0s - loss: 0.1285 - accuracy: 0.9762 - 196ms/epoch - 936us/step\n",
      "Epoch 20/30\n",
      "210/210 - 0s - loss: 0.1277 - accuracy: 0.9762 - 200ms/epoch - 955us/step\n",
      "Epoch 21/30\n",
      "210/210 - 0s - loss: 0.1269 - accuracy: 0.9762 - 185ms/epoch - 879us/step\n",
      "Epoch 22/30\n",
      "210/210 - 0s - loss: 0.1262 - accuracy: 0.9762 - 196ms/epoch - 936us/step\n",
      "Epoch 23/30\n",
      "210/210 - 0s - loss: 0.1256 - accuracy: 0.9762 - 188ms/epoch - 898us/step\n",
      "Epoch 24/30\n",
      "210/210 - 0s - loss: 0.1249 - accuracy: 0.9762 - 162ms/epoch - 769us/step\n",
      "Epoch 25/30\n",
      "210/210 - 0s - loss: 0.1242 - accuracy: 0.9762 - 161ms/epoch - 765us/step\n",
      "Epoch 26/30\n",
      "210/210 - 0s - loss: 0.1236 - accuracy: 0.9762 - 166ms/epoch - 788us/step\n",
      "Epoch 27/30\n",
      "210/210 - 0s - loss: 0.1230 - accuracy: 0.9762 - 172ms/epoch - 817us/step\n",
      "Epoch 28/30\n",
      "210/210 - 0s - loss: 0.1224 - accuracy: 0.9762 - 177ms/epoch - 841us/step\n",
      "Epoch 29/30\n",
      "210/210 - 0s - loss: 0.1219 - accuracy: 0.9762 - 204ms/epoch - 974us/step\n",
      "Epoch 30/30\n",
      "210/210 - 0s - loss: 0.1213 - accuracy: 0.9762 - 184ms/epoch - 874us/step\n"
     ]
    },
    {
     "data": {
      "text/plain": [
       "<keras.callbacks.History at 0x1d32f867a30>"
      ]
     },
     "execution_count": 38,
     "metadata": {},
     "output_type": "execute_result"
    }
   ],
   "source": [
    "model.fit(x=scaled_train_samples, y=train_labels, batch_size=10,epochs=30,shuffle=True,verbose=2)"
   ]
  }
 ],
 "metadata": {
  "interpreter": {
   "hash": "0e7c175a5c8546f27e129efe2fe631ada427613b8c484d56469f685993242a9e"
  },
  "kernelspec": {
   "display_name": "Python 3.10.2 64-bit (windows store)",
   "language": "python",
   "name": "python3"
  },
  "language_info": {
   "codemirror_mode": {
    "name": "ipython",
    "version": 3
   },
   "file_extension": ".py",
   "mimetype": "text/x-python",
   "name": "python",
   "nbconvert_exporter": "python",
   "pygments_lexer": "ipython3",
   "version": "3.10.2"
  },
  "orig_nbformat": 4
 },
 "nbformat": 4,
 "nbformat_minor": 2
}
